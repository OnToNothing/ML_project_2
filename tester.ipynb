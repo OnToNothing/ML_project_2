{
 "cells": [
  {
   "cell_type": "markdown",
   "metadata": {},
   "source": [
    "# Frame the Problem and Look at the Big Picture \n",
    "\n",
    "1. Define the objective in business terms.\n",
    "- The objective is to predict which squirrels are \n",
    "   sick and which are healthy.<!-- (I think confirm this derek) -->-\n",
    "- our client is part of the Squirrel census and is interested in the health of the squirrels in Central Park.\n",
    "- The goal is to predict weather or not a squirrel has a certain disease or not.\n",
    "2. How will your solution be used?\n",
    "- The solution will be used to predict the health of the squirrels in Central Park. This could save time and money for the Squirrel census.\n",
    "3. What are the current solutions/workarounds (if any)?\n",
    "- The current solution is to send out a team of experts to check the health of the squirrels.\n",
    "- This is time consuming and expensive, and the team can only check a limited number of squirrels.\n",
    "4. How should you frame this problem (supervised/unsupervised, online/offline, etc.)?\n",
    "- This is a supervised learning problem because we have labeled data, and it is to be trained on an online capable system.\n",
    "5. How should performance be measured?\n",
    "- The performance should be measured using the F1 score, as we want to have a balance between precision and recall.\\\n",
    "6. What would be the minimum performance needed to reach the business objective?\n",
    "- The minimum performance needed to reach the business objective is an F1 score of ???\n",
    "7. What are comparable problems? Can you reuse experience or tools?\n",
    "- This is a classification problem, and we can use the tools and experience from other classification problems. Data from previous experiences might be used in addition to the tools.\n",
    "8. Is human expertise available?\n",
    "- Yes, human expertise is availabe. Our client is part of the Squirrel census and has a lot of knowledge about the health of the squirrels in Central Park.\n",
    "9. How would you solve the problem manually?\n",
    "- The problem could be solved manually by sending out a team of experts to check the health of the squirrels.\n",
    "10. List the assumptions you (or others) have made so far.\n",
    "- The data is accurate and up to date.\n",
    "- The data is labeled correctly.\n"
   ]
  }
 ],
 "metadata": {
  "language_info": {
   "name": "python"
  }
 },
 "nbformat": 4,
 "nbformat_minor": 2
}
